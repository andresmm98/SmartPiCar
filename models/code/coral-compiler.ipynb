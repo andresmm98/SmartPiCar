{
  "nbformat": 4,
  "nbformat_minor": 0,
  "metadata": {
    "colab": {
      "provenance": [],
      "authorship_tag": "ABX9TyOL2zSo7klmNvpc+Qq+jOAU"
    },
    "kernelspec": {
      "name": "python3",
      "display_name": "Python 3"
    },
    "language_info": {
      "name": "python"
    }
  },
  "cells": [
    {
      "cell_type": "markdown",
      "source": [
        "# Model compiler for Coral accelerator\n"
      ],
      "metadata": {
        "id": "nEDDbuDcNnNq"
      }
    },
    {
      "cell_type": "code",
      "source": [
        "import os\n",
        "import tensorflow as tf\n",
        "\n",
        "from google.colab import drive\n",
        "from keras.models import load_model\n",
        "\n",
        "print( f'tf.version: {tf.__version__}')"
      ],
      "metadata": {
        "id": "1WoDFppLY-_a",
        "colab": {
          "base_uri": "https://localhost:8080/"
        },
        "outputId": "474b191e-95c7-439a-96de-73359c1797d2"
      },
      "execution_count": 1,
      "outputs": [
        {
          "output_type": "stream",
          "name": "stdout",
          "text": [
            "tf.version: 2.15.0\n"
          ]
        }
      ]
    },
    {
      "cell_type": "code",
      "source": [
        "drive.mount('/content/drive')\n",
        "model_dir = '/content/drive/My Drive/Mi educación/TFGs/TFG inf/trained-models'\n",
        "model_name = 'lane-nav-3.52'"
      ],
      "metadata": {
        "id": "gZuNTaJz1hDV",
        "outputId": "598068f4-10e2-456b-89a6-7d16a7e8b35e",
        "colab": {
          "base_uri": "https://localhost:8080/"
        }
      },
      "execution_count": 2,
      "outputs": [
        {
          "output_type": "stream",
          "name": "stdout",
          "text": [
            "Mounted at /content/drive\n"
          ]
        }
      ]
    },
    {
      "cell_type": "code",
      "source": [
        "def coral_compile(dir_of_model,name_of_model):\n",
        "  model = load_model(f'{dir_of_model}/{name_of_model}.keras')\n",
        "\n",
        "  converter = tf.lite.TFLiteConverter.from_keras_model(model)\n",
        "  lite_model = converter.convert()\n",
        "\n",
        "  os.chdir(dir_of_model)\n",
        "  with open(f'{name_of_model}.tflite', 'wb') as f:\n",
        "    f.write(lite_model)"
      ],
      "metadata": {
        "id": "Jf76emKKZE-5"
      },
      "execution_count": 3,
      "outputs": []
    },
    {
      "cell_type": "code",
      "source": [
        "coral_compile(model_dir, model_name)"
      ],
      "metadata": {
        "id": "Pmx0jFqT-uZe"
      },
      "execution_count": 4,
      "outputs": []
    }
  ]
}